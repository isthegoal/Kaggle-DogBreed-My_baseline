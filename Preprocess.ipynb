{
 "cells": [
  {
   "cell_type": "code",
   "execution_count": 4,
   "metadata": {},
   "outputs": [],
   "source": [
    "import pandas as pd\n",
    "import numpy as np\n",
    "import os\n",
    "import mxnet as mx\n",
    "import shutil"
   ]
  },
  {
   "cell_type": "code",
   "execution_count": 5,
   "metadata": {},
   "outputs": [],
   "source": [
    "data_dir = \"D:\\dog_data\\dogbreed\"\n",
    "train_dir = \"train\"\n",
    "test_dir = \"test\"\n",
    "\n",
    "train_gy_dir = \"train_gy\"\n",
    "test_gy_dir = \"test_gy\""
   ]
  },
  {
   "cell_type": "markdown",
   "metadata": {},
   "source": [
    "# Directory Structure"
   ]
  },
  {
   "cell_type": "markdown",
   "metadata": {},
   "source": [
    "## Prepare train data"
   ]
  },
  {
   "cell_type": "code",
   "execution_count": 6,
   "metadata": {},
   "outputs": [],
   "source": [
    "# remove original directory                创建训练集的软连接，建立软连接后自己可以发现 这个图片是不占据空间大小的，只是个文件快捷方式而已。\n",
    "train_gy_path = os.path.join(data_dir, train_gy_dir)\n",
    "if os.path.exists(train_gy_path):\n",
    "    #使用shutil模块  递归移除目录树    应该是有的话就清空这个树结构\n",
    "    shutil.rmtree(train_gy_path)\n",
    "    \n",
    "# make new directory\n",
    "if not os.path.exists(train_gy_path):\n",
    "    #  创建  文件\n",
    "    os.makedirs(train_gy_path)\n",
    "    \n",
    "# get training data id and labels\n",
    "id_labels = pd.read_csv(os.path.join(data_dir, \"labels.csv\"))\n",
    "\n",
    "# construct sym link between train_dir and train_gy_dir     构建目录间的 符号链接\n",
    "for _, (curr_id, curr_breed) in id_labels.iterrows():   #对csv文件中的每行的部分 都起个别名，  分别是curr_id 和curr_breed 分别表示id和种类名。\n",
    "    dst_dir = os.path.join(train_gy_path, curr_breed)   #建立链接   这里会将所有对应id的训练数据全都连过去，\n",
    "    if not os.path.exists(dst_dir):\n",
    "        os.makedirs(dst_dir)\n",
    "    src_loc = os.path.join(data_dir, train_dir, curr_id+\".jpg\")   #使用join来拼接字符串，这样可以指定  源和目标的文件名\n",
    "    dst_loc = os.path.join(dst_dir, curr_id+\".jpg\")\n",
    "    os.symlink(src_loc, dst_loc) #这里会构建从源链接到目标链接的   软链接。    对每个图片使用for建立实体到 快捷方式之间的软连接。"
   ]
  },
  {
   "cell_type": "code",
   "execution_count": 7,
   "metadata": {},
   "outputs": [],
   "source": [
    "# check number consistant    使用断言判断   \n",
    "assert sum([len(sub_files) for root_dir, sub_dir, sub_files in os.walk(train_gy_path) if sub_files])==10222   #通过断言验证真假来确知前面的行为是否正确"
   ]
  },
  {
   "cell_type": "markdown",
   "metadata": {},
   "source": [
    "## Prepare test data"
   ]
  },
  {
   "cell_type": "code",
   "execution_count": 8,
   "metadata": {},
   "outputs": [],
   "source": [
    "# remove original directory    这是测试方面软连接的   建立过程        最后或生成软连接形式， 这个形式是放在0里面的。 之后看到的才是\n",
    "test_gy_path = os.path.join(data_dir, test_gy_dir)\n",
    "if os.path.exists(test_gy_path):\n",
    "    shutil.rmtree(test_gy_path)\n",
    "    \n",
    "# make new directory\n",
    "if not os.path.exists(test_gy_path):\n",
    "    os.makedirs(test_gy_path)\n",
    "\n",
    "# construct sym link between test_dir and test_gy_dir     这里会构建 测试数据图片和测试目录上的\n",
    "for roor_dir, sub_dir, sub_files in os.walk(os.path.join(data_dir, test_dir)):  #对每个测试图片分别执行以下过程  os.walk会得到路径过程\n",
    "    for sub_file in sub_files:    #所有测试图片\n",
    "        dst_dir = os.path.join(test_gy_path, \"0\")\n",
    "        if not os.path.exists(dst_dir):\n",
    "            os.makedirs(dst_dir)\n",
    "        src_loc = os.path.join(data_dir, test_dir, sub_file)  #建立软连接的源地址\n",
    "        dst_loc = os.path.join(dst_dir, sub_file)   ##建立软连接的目标地址    目标地址的方式和train那里的方式是有所不同的，这里是全放在0文件中，而不用根据种类分开\n",
    "        os.symlink(src_loc, dst_loc)      "
   ]
  },
  {
   "cell_type": "code",
   "execution_count": 9,
   "metadata": {},
   "outputs": [],
   "source": [
    "# check number consistant\n",
    "assert sum([len(sub_files) for root_dir, sub_dir, sub_files in os.walk(test_gy_path) if sub_files])==10357"
   ]
  },
  {
   "cell_type": "code",
   "execution_count": null,
   "metadata": {},
   "outputs": [],
   "source": []
  },
  {
   "cell_type": "code",
   "execution_count": null,
   "metadata": {},
   "outputs": [],
   "source": []
  }
 ],
 "metadata": {
  "kernelspec": {
   "display_name": "Python 2",
   "language": "python",
   "name": "python2"
  },
  "language_info": {
   "codemirror_mode": {
    "name": "ipython",
    "version": 2
   },
   "file_extension": ".py",
   "mimetype": "text/x-python",
   "name": "python",
   "nbconvert_exporter": "python",
   "pygments_lexer": "ipython2",
   "version": "2.7.13"
  }
 },
 "nbformat": 4,
 "nbformat_minor": 2
}
