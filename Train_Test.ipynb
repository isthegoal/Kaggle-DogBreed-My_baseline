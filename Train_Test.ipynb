{
 "cells": [
  {
   "cell_type": "code",
   "execution_count": 160,
   "metadata": {},
   "outputs": [],
   "source": [
    "import numpy as np\n",
    "import h5py\n",
    "import os\n",
    "import mxnet as mx\n",
    "from mxnet import nd\n",
    "from mxnet.gluon import nn\n",
    "from sklearn.model_selection import train_test_split\n",
    "import matplotlib.pyplot as plt\n",
    "import pandas as pd\n",
    "%matplotlib inline"
   ]
  },
  {
   "cell_type": "markdown",
   "metadata": {},
   "source": [
    "# Load Data"
   ]
  },
  {
   "cell_type": "code",
   "execution_count": 161,
   "metadata": {},
   "outputs": [
    {
     "name": "stdout",
     "output_type": "stream",
     "text": [
      "X_train Size:  (10222, 2048)\n",
      "X_test Size:  (10357, 2048)\n",
      "y_train Size:  (10222,)\n"
     ]
    }
   ],
   "source": [
    "#     获取特征提取文件得到的保留的    残差训练尺寸和测试尺寸，以及对应标签大小。。。     拿出保存的特征提取数据   使用这些提取出的特征参与下一步的运算\n",
    "#这样特征提取之后   每个样本都变成对应的预训练网络输出的特征，这样把特征就可以当做转型的原始数据来用\n",
    "with h5py.File('D:\\dog_data\\dogbreed/resnet50_v2_pretrained_Xy.h5', 'r') as f:\n",
    "    X_train_resnet50_v2 = np.array(f['X_train_resnet50_v2'])\n",
    "    X_test_resnet50_v2 = np.array(f['X_test_resnet50_v2'])\n",
    "    y_train = np.array(f['y_train'])\n",
    "print (\"X_train Size: \", X_train_resnet50_v2.shape)\n",
    "print (\"X_test Size: \", X_test_resnet50_v2.shape)\n",
    "print (\"y_train Size: \", y_train.shape)"
   ]
  },
  {
   "cell_type": "markdown",
   "metadata": {},
   "source": [
    "# Data Iterator"
   ]
  },
  {
   "cell_type": "code",
   "execution_count": 162,
   "metadata": {},
   "outputs": [],
   "source": [
    "#将  之前的大的训练数据（提取特征后）  分离出20%  当做验证集来使用，\n",
    "X_train, X_val, y_train, y_val = train_test_split(X_train_resnet50_v2, y_train, test_size=0.2)\n",
    "\n",
    "# dataset            将训练的数据和对应标签进行组合成为   训练数据序列对应集合          验证集使用同样的方法那样放置。。。\n",
    "dataset_train = mx.gluon.data.ArrayDataset(nd.array(X_train), nd.array(y_train)) #官方文档说 这里会进行两个数组对应序列位置的组合，形成新的数组\n",
    "dataset_val = mx.gluon.data.ArrayDataset(nd.array(X_val), nd.array(y_val))\n",
    "\n",
    "# data itet           制定数据的批次，这里会类似于  TF中的队列机制一样，这里会生成128大小的缓冲数据放入流中进行保存。         \n",
    "batch_size = 128\n",
    "data_iter_train = mx.gluon.data.DataLoader(dataset_train, batch_size, shuffle=True)     #指定加载数据训练的方式，一次每个批次的数据量是128大小。\n",
    "data_iter_val = mx.gluon.data.DataLoader(dataset_val, batch_size) #标签也是同样的对应方式。   生成128个批次数据"
   ]
  },
  {
   "cell_type": "markdown",
   "metadata": {},
   "source": [
    "# Build Model"
   ]
  },
  {
   "cell_type": "code",
   "execution_count": 163,
   "metadata": {},
   "outputs": [],
   "source": [
    "ctx = mx.cpu()\n",
    "def get_net(ctx):          #在mxnet中开始创建模型。。。   这个nn是引入的gluon框架结构       对网络进行加全连接层方式的构造，并使用cpu对网络进行初始化。\n",
    "\n",
    "    net = nn.Sequential()   #生成按序列堆栈块， 这里堆栈块的作用是使用堆栈的方式每次用一个批次数据执行这个里面的网络操作获取输出的网络结构结果\n",
    "    with net.name_scope():    #在网络后面增加一个relu的全连接层\n",
    "        net.add(nn.Dense(520, activation='relu'))\n",
    "        net.add(nn.Dense(120))\n",
    "    net.initialize(ctx=ctx) #定义好网络结构进行初始化\n",
    "    return net"
   ]
  },
  {
   "cell_type": "markdown",
   "metadata": {},
   "source": [
    "# Training"
   ]
  },
  {
   "cell_type": "code",
   "execution_count": 164,
   "metadata": {},
   "outputs": [],
   "source": [
    "def accuracy(output, labels):    #进行训练前的准备  ，作为计算准确率和   损失值  进行评估时使用。。。\n",
    "    return nd.mean(nd.argmax(output, axis=1) == labels).asscalar()    #使用mxnet中的函数 去比对输出和实际应输出来获得  所有输出比对下准确率  这里asscalar会获取复制里面值得标量，目的就是转化成标量\n",
    " \n",
    "def evaluate(net, data_iter):    #计算准确率和损失函数值，这里会根据一定批次内计算平均的   准确率和损失值作为返回。   这里data_iter是个批次数据\n",
    "    softmax_cross_entropy = mx.gluon.loss.SoftmaxCrossEntropyLoss()\n",
    "    loss, acc, n = 0., 0., 0.\n",
    "    steps = len(data_iter)\n",
    "    for data, label in data_iter:    #对一个批次数据中的每个     数据组合进行 计算每个数据输入对应的准确率，\n",
    "        data, label = data.as_in_context(ctx), label.as_in_context(ctx)\n",
    "        output = net(data)\n",
    "        acc += accuracy(output, label)\n",
    "        loss += nd.mean(softmax_cross_entropy(output, label)).asscalar()\n",
    "    return loss/steps, acc/steps#这里计算的每个批次的数据 是一个所有批次的每个准确率和loss的平均值来作为批次的效果的见证。"
   ]
  },
  {
   "cell_type": "code",
   "execution_count": 165,
   "metadata": {},
   "outputs": [],
   "source": [
    "def train(net, data_iter_train, data_iter_val, ctx, \n",
    "          epochs=50, lr=0.01, mome=0.9, wd=1e-4, lr_decay=0.5, lr_period=20):\n",
    "\n",
    "    softmax_cross_entropy = mx.gluon.loss.SoftmaxCrossEntropyLoss()\n",
    "    trainer = mx.gluon.Trainer(net.collect_params(),  'sgd', {'learning_rate': lr, 'momentum': mome,   #设置训练器参数\n",
    "                                      'wd': wd})\n",
    "    \n",
    "    train_loss_list = []\n",
    "    val_loss_list = []\n",
    "    \n",
    "    for epoch in range(epochs):\n",
    "        train_loss = 0.0\n",
    "        train_acc = 0.0\n",
    "        steps = len(data_iter_train)\n",
    "        if epoch > 0 and epoch % lr_period == 0:   #学习率动态变化的\n",
    "            trainer.set_learning_rate(trainer.learning_rate * lr_decay)\n",
    "        for X, y in data_iter_train:\n",
    "\n",
    "            X, y = X.as_in_context(ctx), y.as_in_context(ctx)\n",
    "\n",
    "            with mx.autograd.record():\n",
    "                out = net(X)\n",
    "                loss = softmax_cross_entropy(out, y)\n",
    "\n",
    "            loss.backward()    #进行反向传播    每个批次里面每个小部分都会反向计算\n",
    "            trainer.step(batch_size)\n",
    "\n",
    "            train_loss += nd.mean(loss).asscalar()\n",
    "\n",
    "\n",
    "            train_acc += accuracy(out, y)\n",
    "\n",
    "        val_loss, val_acc = evaluate(net, data_iter_val)\n",
    "        train_loss_list.append(train_loss/steps)\n",
    "        val_loss_list.append(val_loss)\n",
    "        print(\"Epoch %d. loss: %.4f, acc: %.2f%%, val_loss %.4f, val_acc %.2f%%\" % (\n",
    "            epoch+1, train_loss/steps, train_acc/steps*100, val_loss, val_acc*100))\n",
    "        \n",
    "    return train_loss_list, val_loss_list"
   ]
  },
  {
   "cell_type": "code",
   "execution_count": 166,
   "metadata": {
    "scrolled": true
   },
   "outputs": [
    {
     "name": "stdout",
     "output_type": "stream",
     "text": [
      "Epoch 1. loss: 4.1364, acc: 19.44%, val_loss 3.2185, val_acc 42.93%\n",
      "Epoch 2. loss: 2.4303, acc: 59.19%, val_loss 1.7738, val_acc 70.75%\n",
      "Epoch 3. loss: 1.4069, acc: 74.97%, val_loss 1.1628, val_acc 77.60%\n",
      "Epoch 4. loss: 0.9929, acc: 80.23%, val_loss 0.9034, val_acc 80.34%\n",
      "Epoch 5. loss: 0.8046, acc: 82.31%, val_loss 0.7796, val_acc 80.93%\n",
      "Epoch 6. loss: 0.6954, acc: 84.28%, val_loss 0.7049, val_acc 82.44%\n",
      "Epoch 7. loss: 0.6259, acc: 85.11%, val_loss 0.6586, val_acc 82.64%\n",
      "Epoch 8. loss: 0.5741, acc: 85.49%, val_loss 0.6281, val_acc 82.88%\n",
      "Epoch 9. loss: 0.5379, acc: 86.32%, val_loss 0.5987, val_acc 83.28%\n",
      "Epoch 10. loss: 0.5067, acc: 86.80%, val_loss 0.5836, val_acc 83.57%\n",
      "Epoch 11. loss: 0.4819, acc: 87.40%, val_loss 0.5680, val_acc 83.67%\n",
      "Epoch 12. loss: 0.4602, acc: 87.62%, val_loss 0.5454, val_acc 84.35%\n",
      "Epoch 13. loss: 0.4420, acc: 88.10%, val_loss 0.5390, val_acc 84.30%\n",
      "Epoch 14. loss: 0.4231, acc: 88.50%, val_loss 0.5377, val_acc 84.45%\n",
      "Epoch 15. loss: 0.4094, acc: 88.93%, val_loss 0.5269, val_acc 84.11%\n",
      "Epoch 16. loss: 0.3944, acc: 89.46%, val_loss 0.5215, val_acc 85.04%\n",
      "Epoch 17. loss: 0.3792, acc: 89.28%, val_loss 0.5289, val_acc 84.50%\n",
      "Epoch 18. loss: 0.3713, acc: 89.98%, val_loss 0.5160, val_acc 84.25%\n",
      "Epoch 19. loss: 0.3581, acc: 90.32%, val_loss 0.5084, val_acc 84.69%\n",
      "Epoch 20. loss: 0.3488, acc: 90.27%, val_loss 0.5102, val_acc 84.25%\n",
      "Epoch 21. loss: 0.3279, acc: 91.26%, val_loss 0.4903, val_acc 85.23%\n",
      "Epoch 22. loss: 0.3164, acc: 91.87%, val_loss 0.4875, val_acc 85.13%\n",
      "Epoch 23. loss: 0.3147, acc: 92.10%, val_loss 0.4877, val_acc 85.08%\n",
      "Epoch 24. loss: 0.3134, acc: 92.00%, val_loss 0.4875, val_acc 85.28%\n",
      "Epoch 25. loss: 0.3126, acc: 92.14%, val_loss 0.4885, val_acc 85.18%\n",
      "Epoch 26. loss: 0.3117, acc: 92.12%, val_loss 0.4884, val_acc 85.33%\n",
      "Epoch 27. loss: 0.3107, acc: 92.07%, val_loss 0.4872, val_acc 84.99%\n",
      "Epoch 28. loss: 0.3100, acc: 92.17%, val_loss 0.4866, val_acc 85.23%\n",
      "Epoch 29. loss: 0.3091, acc: 92.26%, val_loss 0.4866, val_acc 85.23%\n",
      "Epoch 30. loss: 0.3079, acc: 92.27%, val_loss 0.4861, val_acc 85.28%\n",
      "Epoch 31. loss: 0.3070, acc: 92.29%, val_loss 0.4862, val_acc 85.13%\n",
      "Epoch 32. loss: 0.3062, acc: 92.30%, val_loss 0.4864, val_acc 85.13%\n",
      "Epoch 33. loss: 0.3055, acc: 92.27%, val_loss 0.4860, val_acc 85.18%\n",
      "Epoch 34. loss: 0.3050, acc: 92.36%, val_loss 0.4861, val_acc 85.23%\n",
      "Epoch 35. loss: 0.3035, acc: 92.30%, val_loss 0.4850, val_acc 85.18%\n",
      "Epoch 36. loss: 0.3030, acc: 92.50%, val_loss 0.4855, val_acc 85.33%\n",
      "Epoch 37. loss: 0.3020, acc: 92.42%, val_loss 0.4855, val_acc 85.23%\n",
      "Epoch 38. loss: 0.3011, acc: 92.47%, val_loss 0.4846, val_acc 85.47%\n",
      "Epoch 39. loss: 0.3005, acc: 92.47%, val_loss 0.4849, val_acc 85.28%\n",
      "Epoch 40. loss: 0.2995, acc: 92.56%, val_loss 0.4840, val_acc 85.48%\n",
      "Epoch 41. loss: 0.2963, acc: 92.75%, val_loss 0.4842, val_acc 85.62%\n",
      "Epoch 42. loss: 0.2961, acc: 92.71%, val_loss 0.4842, val_acc 85.43%\n",
      "Epoch 43. loss: 0.2961, acc: 92.75%, val_loss 0.4843, val_acc 85.43%\n",
      "Epoch 44. loss: 0.2959, acc: 92.74%, val_loss 0.4843, val_acc 85.38%\n",
      "Epoch 45. loss: 0.2959, acc: 92.76%, val_loss 0.4843, val_acc 85.38%\n",
      "Epoch 46. loss: 0.2958, acc: 92.71%, val_loss 0.4843, val_acc 85.38%\n",
      "Epoch 47. loss: 0.2956, acc: 92.75%, val_loss 0.4844, val_acc 85.38%\n",
      "Epoch 48. loss: 0.2957, acc: 92.74%, val_loss 0.4843, val_acc 85.33%\n",
      "Epoch 49. loss: 0.2955, acc: 92.76%, val_loss 0.4843, val_acc 85.43%\n",
      "Epoch 50. loss: 0.2953, acc: 92.76%, val_loss 0.4843, val_acc 85.43%\n",
      "Epoch 51. loss: 0.2952, acc: 92.78%, val_loss 0.4844, val_acc 85.33%\n",
      "Epoch 52. loss: 0.2951, acc: 92.78%, val_loss 0.4844, val_acc 85.28%\n",
      "Epoch 53. loss: 0.2953, acc: 92.76%, val_loss 0.4844, val_acc 85.33%\n",
      "Epoch 54. loss: 0.2950, acc: 92.75%, val_loss 0.4844, val_acc 85.33%\n",
      "Epoch 55. loss: 0.2949, acc: 92.76%, val_loss 0.4843, val_acc 85.33%\n",
      "Epoch 56. loss: 0.2949, acc: 92.76%, val_loss 0.4843, val_acc 85.28%\n",
      "Epoch 57. loss: 0.2947, acc: 92.79%, val_loss 0.4844, val_acc 85.33%\n",
      "Epoch 58. loss: 0.2945, acc: 92.77%, val_loss 0.4843, val_acc 85.33%\n",
      "Epoch 59. loss: 0.2946, acc: 92.77%, val_loss 0.4843, val_acc 85.33%\n",
      "Epoch 60. loss: 0.2946, acc: 92.75%, val_loss 0.4843, val_acc 85.33%\n",
      "Epoch 61. loss: 0.2940, acc: 92.78%, val_loss 0.4843, val_acc 85.33%\n",
      "Epoch 62. loss: 0.2942, acc: 92.76%, val_loss 0.4843, val_acc 85.33%\n",
      "Epoch 63. loss: 0.2940, acc: 92.78%, val_loss 0.4843, val_acc 85.33%\n",
      "Epoch 64. loss: 0.2942, acc: 92.79%, val_loss 0.4843, val_acc 85.33%\n",
      "Epoch 65. loss: 0.2943, acc: 92.78%, val_loss 0.4843, val_acc 85.33%\n",
      "Epoch 66. loss: 0.2941, acc: 92.79%, val_loss 0.4843, val_acc 85.33%\n",
      "Epoch 67. loss: 0.2942, acc: 92.78%, val_loss 0.4843, val_acc 85.33%\n",
      "Epoch 68. loss: 0.2940, acc: 92.77%, val_loss 0.4843, val_acc 85.33%\n",
      "Epoch 69. loss: 0.2940, acc: 92.79%, val_loss 0.4843, val_acc 85.33%\n",
      "Epoch 70. loss: 0.2940, acc: 92.79%, val_loss 0.4843, val_acc 85.33%\n",
      "Epoch 71. loss: 0.2940, acc: 92.80%, val_loss 0.4843, val_acc 85.33%\n",
      "Epoch 72. loss: 0.2940, acc: 92.79%, val_loss 0.4843, val_acc 85.33%\n",
      "Epoch 73. loss: 0.2940, acc: 92.78%, val_loss 0.4843, val_acc 85.33%\n",
      "Epoch 74. loss: 0.2942, acc: 92.79%, val_loss 0.4843, val_acc 85.33%\n",
      "Epoch 75. loss: 0.2941, acc: 92.79%, val_loss 0.4843, val_acc 85.33%\n",
      "Epoch 76. loss: 0.2940, acc: 92.78%, val_loss 0.4843, val_acc 85.33%\n",
      "Epoch 77. loss: 0.2941, acc: 92.79%, val_loss 0.4843, val_acc 85.33%\n",
      "Epoch 78. loss: 0.2941, acc: 92.78%, val_loss 0.4843, val_acc 85.33%\n",
      "Epoch 79. loss: 0.2939, acc: 92.81%, val_loss 0.4843, val_acc 85.33%\n",
      "Epoch 80. loss: 0.2939, acc: 92.81%, val_loss 0.4843, val_acc 85.33%\n",
      "Epoch 81. loss: 0.2940, acc: 92.80%, val_loss 0.4843, val_acc 85.33%\n",
      "Epoch 82. loss: 0.2939, acc: 92.79%, val_loss 0.4843, val_acc 85.33%\n",
      "Epoch 83. loss: 0.2939, acc: 92.80%, val_loss 0.4843, val_acc 85.33%\n",
      "Epoch 84. loss: 0.2941, acc: 92.80%, val_loss 0.4843, val_acc 85.33%\n",
      "Epoch 85. loss: 0.2940, acc: 92.80%, val_loss 0.4843, val_acc 85.33%\n",
      "Epoch 86. loss: 0.2940, acc: 92.80%, val_loss 0.4843, val_acc 85.33%\n",
      "Epoch 87. loss: 0.2938, acc: 92.80%, val_loss 0.4843, val_acc 85.33%\n",
      "Epoch 88. loss: 0.2939, acc: 92.80%, val_loss 0.4843, val_acc 85.33%\n",
      "Epoch 89. loss: 0.2941, acc: 92.79%, val_loss 0.4843, val_acc 85.33%\n",
      "Epoch 90. loss: 0.2940, acc: 92.80%, val_loss 0.4843, val_acc 85.33%\n",
      "Epoch 91. loss: 0.2940, acc: 92.80%, val_loss 0.4843, val_acc 85.33%\n",
      "Epoch 92. loss: 0.2940, acc: 92.79%, val_loss 0.4843, val_acc 85.33%\n",
      "Epoch 93. loss: 0.2939, acc: 92.80%, val_loss 0.4843, val_acc 85.33%\n",
      "Epoch 94. loss: 0.2940, acc: 92.79%, val_loss 0.4843, val_acc 85.33%\n",
      "Epoch 95. loss: 0.2941, acc: 92.80%, val_loss 0.4843, val_acc 85.33%\n",
      "Epoch 96. loss: 0.2940, acc: 92.79%, val_loss 0.4843, val_acc 85.33%\n",
      "Epoch 97. loss: 0.2940, acc: 92.80%, val_loss 0.4843, val_acc 85.33%\n",
      "Epoch 98. loss: 0.2939, acc: 92.79%, val_loss 0.4843, val_acc 85.33%\n",
      "Epoch 99. loss: 0.2941, acc: 92.80%, val_loss 0.4843, val_acc 85.33%\n",
      "Epoch 100. loss: 0.2938, acc: 92.80%, val_loss 0.4843, val_acc 85.33%\n"
     ]
    }
   ],
   "source": [
    "net = get_net(ctx)      #获取 自己创造的模型\n",
    "train_loss_list, val_loss_list = train(net, data_iter_train, data_iter_val, ctx, epochs=100, lr=0.01,\\\n",
    "      mome=0.7, wd=1e-4, lr_decay=0.1, lr_period=20)"
   ]
  },
  {
   "cell_type": "code",
   "execution_count": 167,
   "metadata": {
    "scrolled": true
   },
   "outputs": [
    {
     "data": {
      "text/plain": [
       "<matplotlib.legend.Legend at 0x4178ea58>"
      ]
     },
     "execution_count": 167,
     "metadata": {},
     "output_type": "execute_result"
    },
    {
     "data": {
      "image/png": "[encoded data removed]",
      "text/plain": [
       "<matplotlib.figure.Figure at 0x413917b8>"
      ]
     },
     "metadata": {},
     "output_type": "display_data"
    }
   ],
   "source": [
    "plt.plot(train_loss_list, label=\"train_loss\")      #画出 自己使用列表保存的loss值数据\n",
    "plt.plot(val_loss_list, label=\"val_loss\")\n",
    "plt.legend()"
   ]
  },
  {
   "cell_type": "code",
   "execution_count": 174,
   "metadata": {},
   "outputs": [
    {
     "data": {
      "text/plain": [
       "(0, 1.5)"
      ]
     },
     "execution_count": 174,
     "metadata": {},
     "output_type": "execute_result"
    },
    {
     "data": {
      "image/png": "[encoded data removed]",
      "text/plain": [
       "<matplotlib.figure.Figure at 0x3d0e8320>"
      ]
     },
     "metadata": {},
     "output_type": "display_data"
    }
   ],
   "source": [
    "plt.plot(train_loss_list, label=\"train_loss\")   #同上，不过这里是详细的展示效果\n",
    "plt.plot(val_loss_list, label=\"val_loss\")\n",
    "plt.legend()\n",
    "plt.ylim([0,1.5])"
   ]
  },
  {
   "cell_type": "markdown",
   "metadata": {},
   "source": [
    "# Testing"
   ]
  },
  {
   "cell_type": "code",
   "execution_count": 175,
   "metadata": {},
   "outputs": [],
   "source": [
    "out_softmax = nd.softmax(net(nd.array(X_test_resnet50_v2).as_in_context(ctx)))    #使用X_test_resnet50_v2中的所有测试数据提取的特征输入到网络中获取损失函数输出\n",
    "\n",
    "synsets = mx.gluon.data.vision.ImageFolderDataset(\"D:\\dog_data\\dogbreed/train_gy\").synsets #这里synsets会获取所有的train中的标签名，也得到就是所有种类名  \n",
    "ids = sorted(os.listdir(\"D:\\dog_data\\dogbreed/test_gy/0/\"))#得到指定的所有图片名，也就是列表里的名字对应的id信息\n",
    "ids = [i[:-4] for i in ids]  #对id删除了后面的点缀.jpg\n",
    "\n",
    "df = pd.DataFrame(out_softmax.asnumpy())  #思路：参照提交的csv文件进行观察，  这里构造id下的列为所有图片id ,  synsets作用是生成种类的类名，并对应放置softmax输出值\n",
    "df.columns = synsets\n",
    "df[\"id\"] = ids\n",
    "df = df[[\"id\"]+synsets]"
   ]
  },
  {
   "cell_type": "code",
   "execution_count": 176,
   "metadata": {},
   "outputs": [],
   "source": [
    "df.to_csv('D:\\dog_data\\dogbreed/pred2.csv', index=None)"
   ]
  },
  {
   "cell_type": "code",
   "execution_count": null,
   "metadata": {},
   "outputs": [],
   "source": []
  }
 ],
 "metadata": {
  "kernelspec": {
   "display_name": "Python 2",
   "language": "python",
   "name": "python2"
  },
  "language_info": {
   "codemirror_mode": {
    "name": "ipython",
    "version": 2
   },
   "file_extension": ".py",
   "mimetype": "text/x-python",
   "name": "python",
   "nbconvert_exporter": "python",
   "pygments_lexer": "ipython2",
   "version": "2.7.13"
  }
 },
 "nbformat": 4,
 "nbformat_minor": 2
}
