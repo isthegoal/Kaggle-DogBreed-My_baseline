{
 "cells": [
  {
   "cell_type": "code",
   "execution_count": 1,
   "metadata": {},
   "outputs": [],
   "source": [
    "import pandas as pd\n",
    "import numpy as np\n",
    "import os\n",
    "import matplotlib.pyplot as plt\n",
    "from mxnet import image as mximg\n",
    "import mxnet as mx\n",
    "from tqdm import tqdm\n",
    "from mxnet import nd\n",
    "from sklearn.model_selection import train_test_split\n",
    "from mxnet.gluon import nn\n",
    "import h5py\n",
    "%matplotlib inline"
   ]
  },
  {
   "cell_type": "markdown",
   "metadata": {},
   "source": [
    "# Data Structure"
   ]
  },
  {
   "cell_type": "code",
   "execution_count": 2,
   "metadata": {},
   "outputs": [],
   "source": [
    "data_dir = \"D:\\dog_data\\dogbreed\\std_dogs\\Images\"    #这个方法使用斯坦福提供的数据集   用这些数据集去训练网络\n",
    "for dir_name in os.listdir(data_dir):\n",
    "    src = os.path.join(data_dir, dir_name)\n",
    "    dst = os.path.join(data_dir, dir_name[10:].lower())\n",
    "    os.rename(src, dst)"
   ]
  },
  {
   "cell_type": "markdown",
   "metadata": {},
   "source": [
    "# Image Preprocess \n",
    "\n",
    "- size: > 224 \n",
    "- normalized: mean = [0.485, 0.456, 0.406],  std = [0.229, 0.224, 0.225]\n",
    "- shape:  RGB images of shape (N x 3 x H x W)\n",
    "\n",
    "https://mxnet.incubator.apache.org/api/python/gluon/model_zoo.html#mxnet.gluon.model_zoo"
   ]
  },
  {
   "cell_type": "code",
   "execution_count": 3,
   "metadata": {},
   "outputs": [],
   "source": [
    "preprocess_list = [\n",
    "    lambda img: img.astype(\"float32\")/255,\n",
    "    mx.image.ForceResizeAug((224, 224)),\n",
    "    mx.image.ColorNormalizeAug(mean = [0.485, 0.456, 0.406], std = [0.229, 0.224, 0.225]),\n",
    "    lambda img: nd.transpose(img,(2,0,1))\n",
    "]\n",
    "\n",
    "def image_preprocess(img):\n",
    "    for f in preprocess_list:\n",
    "        img = f(img)\n",
    "    return img"
   ]
  },
  {
   "cell_type": "markdown",
   "metadata": {},
   "source": [
    "# Data Loader"
   ]
  },
  {
   "cell_type": "code",
   "execution_count": 4,
   "metadata": {},
   "outputs": [],
   "source": [
    "def transform(img, label):\n",
    "    return image_preprocess(img), label\n",
    "\n",
    "def load_data(data_dir, load_batch_size = 32, f_trans=transform):\n",
    "    imgs = mx.gluon.data.vision.ImageFolderDataset(data_dir, transform=transform)\n",
    "    data = mx.gluon.data.DataLoader(imgs, load_batch_size, last_batch=\"keep\")\n",
    "    return data"
   ]
  },
  {
   "cell_type": "code",
   "execution_count": 5,
   "metadata": {},
   "outputs": [],
   "source": [
    "data = load_data(\"D:\\dog_data\\dogbreed\\std_dogs\\Images\")"
   ]
  },
  {
   "cell_type": "markdown",
   "metadata": {},
   "source": [
    "# Pretrained Net Loader"
   ]
  },
  {
   "cell_type": "code",
   "execution_count": 7,
   "metadata": {},
   "outputs": [],
   "source": [
    "ctx = mx.cpu()\n",
    "resnet50_v2 = mx.gluon.model_zoo.vision.resnet50_v2(pretrained=True, ctx=ctx)"
   ]
  },
  {
   "cell_type": "markdown",
   "metadata": {},
   "source": [
    "# Feature Extraction From Pretrained Net"
   ]
  },
  {
   "cell_type": "code",
   "execution_count": 8,
   "metadata": {},
   "outputs": [],
   "source": [
    "def extract_features(net, data, ctx):\n",
    "    rst_X, rst_y = [], []\n",
    "    for X, y in tqdm(data):\n",
    "        Xi = net.features(X.as_in_context(ctx))\n",
    "        rst_X.append(Xi.asnumpy())\n",
    "        rst_y.append(y.asnumpy())\n",
    "    return np.concatenate(rst_X, axis=0), np.concatenate(rst_y, axis=0) "
   ]
  },
  {
   "cell_type": "code",
   "execution_count": 9,
   "metadata": {
    "scrolled": true
   },
   "outputs": [
    {
     "name": "stderr",
     "output_type": "stream",
     "text": [
      "100%|██████████████████████████████████████| 644/644 [1:18:57<00:00,  7.36s/it]\n"
     ]
    }
   ],
   "source": [
    "X_all, y_all = extract_features(resnet50_v2, data, ctx)"
   ]
  },
  {
   "cell_type": "code",
   "execution_count": 10,
   "metadata": {},
   "outputs": [
    {
     "name": "stdout",
     "output_type": "stream",
     "text": [
      "X_all shape:  (20580, 2048)\n",
      "y_all shape:  (20580,)\n"
     ]
    }
   ],
   "source": [
    "print (\"X_all shape: \", X_all.shape)\n",
    "print (\"y_all shape: \", y_all.shape)"
   ]
  },
  {
   "cell_type": "markdown",
   "metadata": {},
   "source": [
    "# Data Iterator            特征提取之后开始做训练前的准备"
   ]
  },
  {
   "cell_type": "code",
   "execution_count": 11,
   "metadata": {},
   "outputs": [],
   "source": [
    "X_train, X_val, y_train, y_val = train_test_split(X_all, y_all, test_size=0.1)\n",
    "\n",
    "# dataset\n",
    "dataset_train = mx.gluon.data.ArrayDataset(nd.array(X_train), nd.array(y_train))\n",
    "dataset_val = mx.gluon.data.ArrayDataset(nd.array(X_val), nd.array(y_val))\n",
    "dataset_all = mx.gluon.data.ArrayDataset(nd.array(X_all), nd.array(y_all))\n",
    "\n",
    "# data itet\n",
    "batch_size = 128\n",
    "data_iter_train = mx.gluon.data.DataLoader(dataset_train, batch_size, shuffle=True)\n",
    "data_iter_val = mx.gluon.data.DataLoader(dataset_val, batch_size)\n",
    "data_iter_all = mx.gluon.data.DataLoader(dataset_all, batch_size)"
   ]
  },
  {
   "cell_type": "markdown",
   "metadata": {},
   "source": [
    "# Build Model"
   ]
  },
  {
   "cell_type": "code",
   "execution_count": 32,
   "metadata": {},
   "outputs": [],
   "source": [
    "ctx = mx.cpu()\n",
    "def get_net(ctx):\n",
    "\n",
    "    net = nn.Sequential()\n",
    "    with net.name_scope():\n",
    "        net.add(nn.Dense(256, activation='relu'))\n",
    "        net.add(nn.Dropout(0.5))\n",
    "        net.add(nn.Dense(120))\n",
    "\n",
    "    net.initialize(ctx=ctx)\n",
    "    return net"
   ]
  },
  {
   "cell_type": "markdown",
   "metadata": {},
   "source": [
    "# Training"
   ]
  },
  {
   "cell_type": "code",
   "execution_count": 33,
   "metadata": {},
   "outputs": [],
   "source": [
    "def accuracy(output, labels):\n",
    "    return nd.mean(nd.argmax(output, axis=1) == labels).asscalar()\n",
    "\n",
    "def evaluate(net, data_iter):\n",
    "    softmax_cross_entropy = mx.gluon.loss.SoftmaxCrossEntropyLoss()\n",
    "    loss, acc, n = 0., 0., 0.\n",
    "    steps = len(data_iter)\n",
    "    for data, label in data_iter:\n",
    "        data, label = data.as_in_context(ctx), label.as_in_context(ctx)\n",
    "        output = net(data)\n",
    "        acc += accuracy(output, label)\n",
    "        loss += nd.mean(softmax_cross_entropy(output, label)).asscalar()\n",
    "    return loss/steps, acc/steps"
   ]
  },
  {
   "cell_type": "code",
   "execution_count": 34,
   "metadata": {},
   "outputs": [],
   "source": [
    "def train(net, data_iter_train, data_iter_val, ctx, \n",
    "          epochs=50, lr=0.01, mome=0.9, wd=1e-4, lr_decay=0.5, lr_period=20):\n",
    "\n",
    "    softmax_cross_entropy = mx.gluon.loss.SoftmaxCrossEntropyLoss()\n",
    "#     trainer = mx.gluon.Trainer(net.collect_params(),  'sgd', {'learning_rate': lr, 'momentum': mome, \n",
    "#                                       'wd': wd})\n",
    "    trainer = mx.gluon.Trainer(net.collect_params(),  'adam', {'learning_rate': lr, 'wd': wd})\n",
    "    \n",
    "    train_loss_list = []\n",
    "    val_loss_list = []\n",
    "    \n",
    "    for epoch in range(epochs):\n",
    "        train_loss = 0.0\n",
    "        train_acc = 0.0\n",
    "        steps = len(data_iter_train)\n",
    "        if epoch > 0 and epoch % lr_period == 0:\n",
    "            trainer.set_learning_rate(trainer.learning_rate * lr_decay)\n",
    "        for X, y in data_iter_train:\n",
    "\n",
    "            X, y = X.as_in_context(ctx), y.as_in_context(ctx)\n",
    "\n",
    "            with mx.autograd.record():\n",
    "                out = net(X)\n",
    "                loss = softmax_cross_entropy(out, y)\n",
    "\n",
    "            loss.backward()\n",
    "            trainer.step(batch_size)\n",
    "\n",
    "            train_loss += nd.mean(loss).asscalar()\n",
    "\n",
    "\n",
    "            train_acc += accuracy(out, y)\n",
    "    \n",
    "        if data_iter_val:\n",
    "            val_loss, val_acc = evaluate(net, data_iter_val)\n",
    "            train_loss_list.append(train_loss/steps)\n",
    "            val_loss_list.append(val_loss)\n",
    "            print(\"Epoch %d. loss: %.4f, acc: %.2f%%, val_loss %.4f, val_acc %.2f%%\" % (\n",
    "                epoch+1, train_loss/steps, train_acc/steps*100, val_loss, val_acc*100))\n",
    "        \n",
    "    return train_loss_list, val_loss_list"
   ]
  },
  {
   "cell_type": "code",
   "execution_count": 35,
   "metadata": {
    "scrolled": false
   },
   "outputs": [
    {
     "name": "stdout",
     "output_type": "stream",
     "text": [
      "Epoch 1. loss: 4.3396, acc: 9.73%, val_loss 3.5302, val_acc 42.48%\n",
      "Epoch 2. loss: 3.0110, acc: 34.66%, val_loss 2.0830, val_acc 69.29%\n",
      "Epoch 3. loss: 2.0278, acc: 52.04%, val_loss 1.3466, val_acc 78.02%\n",
      "Epoch 4. loss: 1.5509, acc: 60.39%, val_loss 1.0336, val_acc 80.46%\n",
      "Epoch 5. loss: 1.2891, acc: 65.65%, val_loss 0.8663, val_acc 81.46%\n",
      "Epoch 6. loss: 1.1288, acc: 68.72%, val_loss 0.7630, val_acc 82.56%\n",
      "Epoch 7. loss: 1.0272, acc: 70.97%, val_loss 0.7042, val_acc 82.61%\n",
      "Epoch 8. loss: 0.9461, acc: 72.60%, val_loss 0.6615, val_acc 82.33%\n",
      "Epoch 9. loss: 0.8823, acc: 73.86%, val_loss 0.6330, val_acc 83.24%\n",
      "Epoch 10. loss: 0.8380, acc: 74.96%, val_loss 0.6001, val_acc 83.39%\n",
      "Epoch 11. loss: 0.7945, acc: 76.71%, val_loss 0.5840, val_acc 83.25%\n",
      "Epoch 12. loss: 0.7557, acc: 77.38%, val_loss 0.5625, val_acc 83.93%\n",
      "Epoch 13. loss: 0.7321, acc: 77.88%, val_loss 0.5566, val_acc 83.12%\n",
      "Epoch 14. loss: 0.7004, acc: 78.91%, val_loss 0.5457, val_acc 84.16%\n",
      "Epoch 15. loss: 0.6883, acc: 78.83%, val_loss 0.5356, val_acc 83.48%\n",
      "Epoch 16. loss: 0.6645, acc: 79.60%, val_loss 0.5251, val_acc 84.39%\n",
      "Epoch 17. loss: 0.6479, acc: 79.97%, val_loss 0.5224, val_acc 84.39%\n",
      "Epoch 18. loss: 0.6350, acc: 80.47%, val_loss 0.5172, val_acc 84.03%\n",
      "Epoch 19. loss: 0.6219, acc: 80.42%, val_loss 0.5161, val_acc 83.89%\n",
      "Epoch 20. loss: 0.6055, acc: 81.10%, val_loss 0.5110, val_acc 83.76%\n",
      "Epoch 21. loss: 0.5897, acc: 81.92%, val_loss 0.5009, val_acc 84.49%\n",
      "Epoch 22. loss: 0.5856, acc: 81.90%, val_loss 0.5004, val_acc 84.30%\n",
      "Epoch 23. loss: 0.5773, acc: 82.23%, val_loss 0.4994, val_acc 83.71%\n",
      "Epoch 24. loss: 0.5694, acc: 82.27%, val_loss 0.4973, val_acc 84.03%\n",
      "Epoch 25. loss: 0.5635, acc: 82.34%, val_loss 0.4923, val_acc 84.39%\n",
      "Epoch 26. loss: 0.5565, acc: 82.75%, val_loss 0.4943, val_acc 84.03%\n",
      "Epoch 27. loss: 0.5443, acc: 82.85%, val_loss 0.4945, val_acc 84.72%\n",
      "Epoch 28. loss: 0.5406, acc: 83.21%, val_loss 0.4909, val_acc 84.22%\n",
      "Epoch 29. loss: 0.5451, acc: 82.90%, val_loss 0.4869, val_acc 84.76%\n",
      "Epoch 30. loss: 0.5405, acc: 83.03%, val_loss 0.4866, val_acc 84.53%\n",
      "Epoch 31. loss: 0.5320, acc: 83.20%, val_loss 0.4864, val_acc 84.85%\n",
      "Epoch 32. loss: 0.5322, acc: 83.17%, val_loss 0.4848, val_acc 85.27%\n",
      "Epoch 33. loss: 0.5243, acc: 83.57%, val_loss 0.4832, val_acc 84.31%\n",
      "Epoch 34. loss: 0.5247, acc: 83.38%, val_loss 0.4817, val_acc 84.26%\n",
      "Epoch 35. loss: 0.5186, acc: 83.40%, val_loss 0.4822, val_acc 85.04%\n",
      "Epoch 36. loss: 0.5107, acc: 83.70%, val_loss 0.4784, val_acc 84.59%\n",
      "Epoch 37. loss: 0.5112, acc: 83.89%, val_loss 0.4793, val_acc 84.03%\n",
      "Epoch 38. loss: 0.5108, acc: 83.92%, val_loss 0.4802, val_acc 84.99%\n",
      "Epoch 39. loss: 0.4996, acc: 84.45%, val_loss 0.4768, val_acc 84.99%\n",
      "Epoch 40. loss: 0.4970, acc: 84.24%, val_loss 0.4765, val_acc 84.76%\n",
      "Epoch 41. loss: 0.4934, acc: 84.21%, val_loss 0.4744, val_acc 84.90%\n",
      "Epoch 42. loss: 0.4879, acc: 84.38%, val_loss 0.4748, val_acc 84.31%\n",
      "Epoch 43. loss: 0.4862, acc: 84.54%, val_loss 0.4738, val_acc 84.49%\n",
      "Epoch 44. loss: 0.4837, acc: 84.77%, val_loss 0.4734, val_acc 84.72%\n",
      "Epoch 45. loss: 0.4848, acc: 84.44%, val_loss 0.4763, val_acc 84.85%\n",
      "Epoch 46. loss: 0.4744, acc: 84.83%, val_loss 0.4733, val_acc 84.45%\n",
      "Epoch 47. loss: 0.4818, acc: 84.63%, val_loss 0.4714, val_acc 84.45%\n",
      "Epoch 48. loss: 0.4743, acc: 84.70%, val_loss 0.4717, val_acc 84.76%\n",
      "Epoch 49. loss: 0.4690, acc: 85.15%, val_loss 0.4692, val_acc 84.49%\n",
      "Epoch 50. loss: 0.4725, acc: 85.04%, val_loss 0.4700, val_acc 85.08%\n",
      "Epoch 51. loss: 0.4687, acc: 85.17%, val_loss 0.4736, val_acc 84.45%\n",
      "Epoch 52. loss: 0.4719, acc: 85.04%, val_loss 0.4717, val_acc 84.26%\n",
      "Epoch 53. loss: 0.4701, acc: 85.01%, val_loss 0.4712, val_acc 83.99%\n",
      "Epoch 54. loss: 0.4738, acc: 84.75%, val_loss 0.4721, val_acc 84.17%\n",
      "Epoch 55. loss: 0.4650, acc: 85.07%, val_loss 0.4687, val_acc 84.45%\n",
      "Epoch 56. loss: 0.4617, acc: 85.43%, val_loss 0.4681, val_acc 84.94%\n",
      "Epoch 57. loss: 0.4555, acc: 85.47%, val_loss 0.4706, val_acc 84.54%\n",
      "Epoch 58. loss: 0.4589, acc: 85.51%, val_loss 0.4703, val_acc 84.49%\n",
      "Epoch 59. loss: 0.4561, acc: 85.48%, val_loss 0.4681, val_acc 84.85%\n",
      "Epoch 60. loss: 0.4589, acc: 85.65%, val_loss 0.4709, val_acc 85.04%\n",
      "Epoch 61. loss: 0.4554, acc: 85.46%, val_loss 0.4692, val_acc 85.04%\n",
      "Epoch 62. loss: 0.4540, acc: 85.38%, val_loss 0.4682, val_acc 85.22%\n",
      "Epoch 63. loss: 0.4500, acc: 85.63%, val_loss 0.4680, val_acc 84.94%\n",
      "Epoch 64. loss: 0.4551, acc: 85.57%, val_loss 0.4673, val_acc 84.99%\n",
      "Epoch 65. loss: 0.4518, acc: 85.85%, val_loss 0.4677, val_acc 84.45%\n",
      "Epoch 66. loss: 0.4546, acc: 85.52%, val_loss 0.4677, val_acc 84.36%\n",
      "Epoch 67. loss: 0.4443, acc: 85.86%, val_loss 0.4666, val_acc 85.08%\n",
      "Epoch 68. loss: 0.4489, acc: 85.78%, val_loss 0.4663, val_acc 84.45%\n",
      "Epoch 69. loss: 0.4546, acc: 85.64%, val_loss 0.4668, val_acc 84.68%\n",
      "Epoch 70. loss: 0.4422, acc: 86.16%, val_loss 0.4661, val_acc 84.59%\n",
      "Epoch 71. loss: 0.4444, acc: 85.67%, val_loss 0.4652, val_acc 84.99%\n",
      "Epoch 72. loss: 0.4500, acc: 85.46%, val_loss 0.4656, val_acc 85.13%\n",
      "Epoch 73. loss: 0.4426, acc: 85.69%, val_loss 0.4657, val_acc 84.99%\n",
      "Epoch 74. loss: 0.4436, acc: 85.95%, val_loss 0.4659, val_acc 84.94%\n",
      "Epoch 75. loss: 0.4492, acc: 85.86%, val_loss 0.4663, val_acc 84.99%\n",
      "Epoch 76. loss: 0.4453, acc: 85.85%, val_loss 0.4668, val_acc 84.31%\n",
      "Epoch 77. loss: 0.4405, acc: 85.62%, val_loss 0.4662, val_acc 84.22%\n",
      "Epoch 78. loss: 0.4400, acc: 85.80%, val_loss 0.4665, val_acc 85.08%\n",
      "Epoch 79. loss: 0.4464, acc: 85.63%, val_loss 0.4664, val_acc 84.45%\n",
      "Epoch 80. loss: 0.4386, acc: 86.10%, val_loss 0.4657, val_acc 85.17%\n",
      "Epoch 81. loss: 0.4408, acc: 85.97%, val_loss 0.4653, val_acc 85.08%\n",
      "Epoch 82. loss: 0.4385, acc: 86.05%, val_loss 0.4656, val_acc 85.13%\n",
      "Epoch 83. loss: 0.4409, acc: 86.09%, val_loss 0.4649, val_acc 84.49%\n",
      "Epoch 84. loss: 0.4377, acc: 86.09%, val_loss 0.4652, val_acc 84.49%\n",
      "Epoch 85. loss: 0.4388, acc: 85.88%, val_loss 0.4653, val_acc 84.99%\n",
      "Epoch 86. loss: 0.4331, acc: 86.15%, val_loss 0.4644, val_acc 85.04%\n",
      "Epoch 87. loss: 0.4386, acc: 86.00%, val_loss 0.4643, val_acc 84.36%\n",
      "Epoch 88. loss: 0.4410, acc: 86.03%, val_loss 0.4653, val_acc 84.63%\n",
      "Epoch 89. loss: 0.4366, acc: 85.90%, val_loss 0.4649, val_acc 84.54%\n",
      "Epoch 90. loss: 0.4406, acc: 85.86%, val_loss 0.4646, val_acc 84.45%\n",
      "Epoch 91. loss: 0.4339, acc: 86.13%, val_loss 0.4649, val_acc 85.08%\n",
      "Epoch 92. loss: 0.4338, acc: 86.13%, val_loss 0.4651, val_acc 84.54%\n",
      "Epoch 93. loss: 0.4343, acc: 86.14%, val_loss 0.4648, val_acc 84.99%\n",
      "Epoch 94. loss: 0.4304, acc: 86.13%, val_loss 0.4643, val_acc 85.04%\n",
      "Epoch 95. loss: 0.4357, acc: 86.24%, val_loss 0.4649, val_acc 84.36%\n",
      "Epoch 96. loss: 0.4324, acc: 86.16%, val_loss 0.4650, val_acc 84.40%\n",
      "Epoch 97. loss: 0.4287, acc: 86.43%, val_loss 0.4650, val_acc 84.99%\n",
      "Epoch 98. loss: 0.4303, acc: 86.00%, val_loss 0.4649, val_acc 84.40%\n",
      "Epoch 99. loss: 0.4289, acc: 86.43%, val_loss 0.4645, val_acc 85.08%\n",
      "Epoch 100. loss: 0.4346, acc: 86.14%, val_loss 0.4646, val_acc 84.54%\n",
      "Epoch 101. loss: 0.4261, acc: 86.49%, val_loss 0.4640, val_acc 84.40%\n",
      "Epoch 102. loss: 0.4277, acc: 86.36%, val_loss 0.4639, val_acc 84.49%\n",
      "Epoch 103. loss: 0.4288, acc: 86.45%, val_loss 0.4636, val_acc 84.45%\n",
      "Epoch 104. loss: 0.4292, acc: 86.38%, val_loss 0.4636, val_acc 85.08%\n",
      "Epoch 105. loss: 0.4300, acc: 86.26%, val_loss 0.4637, val_acc 84.90%\n",
      "Epoch 106. loss: 0.4349, acc: 86.29%, val_loss 0.4639, val_acc 84.90%\n",
      "Epoch 107. loss: 0.4330, acc: 86.35%, val_loss 0.4636, val_acc 84.36%\n",
      "Epoch 108. loss: 0.4321, acc: 86.16%, val_loss 0.4638, val_acc 84.31%\n",
      "Epoch 109. loss: 0.4282, acc: 86.38%, val_loss 0.4639, val_acc 84.49%\n",
      "Epoch 110. loss: 0.4295, acc: 86.40%, val_loss 0.4638, val_acc 85.04%\n",
      "Epoch 111. loss: 0.4288, acc: 86.12%, val_loss 0.4637, val_acc 84.99%\n",
      "Epoch 112. loss: 0.4283, acc: 86.24%, val_loss 0.4640, val_acc 85.04%\n",
      "Epoch 113. loss: 0.4328, acc: 86.33%, val_loss 0.4637, val_acc 84.45%\n",
      "Epoch 114. loss: 0.4299, acc: 86.35%, val_loss 0.4640, val_acc 84.31%\n",
      "Epoch 115. loss: 0.4279, acc: 86.45%, val_loss 0.4638, val_acc 84.26%\n",
      "Epoch 116. loss: 0.4306, acc: 86.13%, val_loss 0.4640, val_acc 84.40%\n",
      "Epoch 117. loss: 0.4201, acc: 86.68%, val_loss 0.4639, val_acc 84.36%\n",
      "Epoch 118. loss: 0.4287, acc: 86.27%, val_loss 0.4638, val_acc 84.40%\n",
      "Epoch 119. loss: 0.4242, acc: 86.15%, val_loss 0.4640, val_acc 84.45%\n",
      "Epoch 120. loss: 0.4307, acc: 86.08%, val_loss 0.4642, val_acc 84.40%\n",
      "Epoch 121. loss: 0.4321, acc: 85.96%, val_loss 0.4641, val_acc 84.31%\n",
      "Epoch 122. loss: 0.4250, acc: 86.33%, val_loss 0.4638, val_acc 84.36%\n",
      "Epoch 123. loss: 0.4246, acc: 86.53%, val_loss 0.4638, val_acc 84.36%\n",
      "Epoch 124. loss: 0.4292, acc: 85.87%, val_loss 0.4638, val_acc 84.40%\n",
      "Epoch 125. loss: 0.4281, acc: 86.20%, val_loss 0.4638, val_acc 84.40%\n",
      "Epoch 126. loss: 0.4280, acc: 86.26%, val_loss 0.4636, val_acc 84.45%\n",
      "Epoch 127. loss: 0.4297, acc: 86.36%, val_loss 0.4636, val_acc 84.40%\n",
      "Epoch 128. loss: 0.4239, acc: 86.55%, val_loss 0.4635, val_acc 84.40%\n",
      "Epoch 129. loss: 0.4275, acc: 86.40%, val_loss 0.4636, val_acc 84.45%\n",
      "Epoch 130. loss: 0.4261, acc: 86.45%, val_loss 0.4636, val_acc 84.45%\n",
      "Epoch 131. loss: 0.4258, acc: 86.30%, val_loss 0.4638, val_acc 84.40%\n",
      "Epoch 132. loss: 0.4227, acc: 86.54%, val_loss 0.4637, val_acc 84.45%\n"
     ]
    },
    {
     "ename": "KeyboardInterrupt",
     "evalue": "",
     "output_type": "error",
     "traceback": [
      "\u001b[1;31m---------------------------------------------------------------------------\u001b[0m",
      "\u001b[1;31mKeyboardInterrupt\u001b[0m                         Traceback (most recent call last)",
      "\u001b[1;32m<ipython-input-35-e4d0a8da79e6>\u001b[0m in \u001b[0;36m<module>\u001b[1;34m()\u001b[0m\n\u001b[0;32m      1\u001b[0m \u001b[0mnet\u001b[0m \u001b[1;33m=\u001b[0m \u001b[0mget_net\u001b[0m\u001b[1;33m(\u001b[0m\u001b[0mctx\u001b[0m\u001b[1;33m)\u001b[0m\u001b[1;33m\u001b[0m\u001b[0m\n\u001b[1;32m----> 2\u001b[1;33m \u001b[0mtrain_loss_list\u001b[0m\u001b[1;33m,\u001b[0m \u001b[0mval_loss_list\u001b[0m \u001b[1;33m=\u001b[0m \u001b[0mtrain\u001b[0m\u001b[1;33m(\u001b[0m\u001b[0mnet\u001b[0m\u001b[1;33m,\u001b[0m \u001b[0mdata_iter_train\u001b[0m\u001b[1;33m,\u001b[0m \u001b[0mdata_iter_val\u001b[0m\u001b[1;33m,\u001b[0m \u001b[0mctx\u001b[0m\u001b[1;33m,\u001b[0m \u001b[0mepochs\u001b[0m\u001b[1;33m=\u001b[0m\u001b[1;36m150\u001b[0m\u001b[1;33m,\u001b[0m \u001b[0mlr\u001b[0m\u001b[1;33m=\u001b[0m\u001b[1;36m0.0001\u001b[0m\u001b[1;33m,\u001b[0m       \u001b[0mmome\u001b[0m\u001b[1;33m=\u001b[0m\u001b[1;36m0.9\u001b[0m\u001b[1;33m,\u001b[0m \u001b[0mwd\u001b[0m\u001b[1;33m=\u001b[0m\u001b[1;36m0\u001b[0m\u001b[1;33m,\u001b[0m \u001b[0mlr_decay\u001b[0m\u001b[1;33m=\u001b[0m\u001b[1;36m0.5\u001b[0m\u001b[1;33m,\u001b[0m \u001b[0mlr_period\u001b[0m\u001b[1;33m=\u001b[0m\u001b[1;36m20\u001b[0m\u001b[1;33m)\u001b[0m\u001b[1;33m\u001b[0m\u001b[0m\n\u001b[0m",
      "\u001b[1;32m<ipython-input-34-47808233dad3>\u001b[0m in \u001b[0;36mtrain\u001b[1;34m(net, data_iter_train, data_iter_val, ctx, epochs, lr, mome, wd, lr_decay, lr_period)\u001b[0m\n\u001b[0;32m     22\u001b[0m             \u001b[1;32mwith\u001b[0m \u001b[0mmx\u001b[0m\u001b[1;33m.\u001b[0m\u001b[0mautograd\u001b[0m\u001b[1;33m.\u001b[0m\u001b[0mrecord\u001b[0m\u001b[1;33m(\u001b[0m\u001b[1;33m)\u001b[0m\u001b[1;33m:\u001b[0m\u001b[1;33m\u001b[0m\u001b[0m\n\u001b[0;32m     23\u001b[0m                 \u001b[0mout\u001b[0m \u001b[1;33m=\u001b[0m \u001b[0mnet\u001b[0m\u001b[1;33m(\u001b[0m\u001b[0mX\u001b[0m\u001b[1;33m)\u001b[0m\u001b[1;33m\u001b[0m\u001b[0m\n\u001b[1;32m---> 24\u001b[1;33m                 \u001b[0mloss\u001b[0m \u001b[1;33m=\u001b[0m \u001b[0msoftmax_cross_entropy\u001b[0m\u001b[1;33m(\u001b[0m\u001b[0mout\u001b[0m\u001b[1;33m,\u001b[0m \u001b[0my\u001b[0m\u001b[1;33m)\u001b[0m\u001b[1;33m\u001b[0m\u001b[0m\n\u001b[0m\u001b[0;32m     25\u001b[0m \u001b[1;33m\u001b[0m\u001b[0m\n\u001b[0;32m     26\u001b[0m             \u001b[0mloss\u001b[0m\u001b[1;33m.\u001b[0m\u001b[0mbackward\u001b[0m\u001b[1;33m(\u001b[0m\u001b[1;33m)\u001b[0m\u001b[1;33m\u001b[0m\u001b[0m\n",
      "\u001b[1;32mD:\\ProgramData\\Anaconda3\\envs\\tensorflow\\lib\\site-packages\\mxnet\\gluon\\block.py\u001b[0m in \u001b[0;36m__call__\u001b[1;34m(self, *args)\u001b[0m\n\u001b[0;32m    302\u001b[0m     \u001b[1;32mdef\u001b[0m \u001b[0m__call__\u001b[0m\u001b[1;33m(\u001b[0m\u001b[0mself\u001b[0m\u001b[1;33m,\u001b[0m \u001b[1;33m*\u001b[0m\u001b[0margs\u001b[0m\u001b[1;33m)\u001b[0m\u001b[1;33m:\u001b[0m\u001b[1;33m\u001b[0m\u001b[0m\n\u001b[0;32m    303\u001b[0m         \u001b[1;34m\"\"\"Calls forward. Only accepts positional arguments.\"\"\"\u001b[0m\u001b[1;33m\u001b[0m\u001b[0m\n\u001b[1;32m--> 304\u001b[1;33m         \u001b[1;32mreturn\u001b[0m \u001b[0mself\u001b[0m\u001b[1;33m.\u001b[0m\u001b[0mforward\u001b[0m\u001b[1;33m(\u001b[0m\u001b[1;33m*\u001b[0m\u001b[0margs\u001b[0m\u001b[1;33m)\u001b[0m\u001b[1;33m\u001b[0m\u001b[0m\n\u001b[0m\u001b[0;32m    305\u001b[0m \u001b[1;33m\u001b[0m\u001b[0m\n\u001b[0;32m    306\u001b[0m     \u001b[1;32mdef\u001b[0m \u001b[0mforward\u001b[0m\u001b[1;33m(\u001b[0m\u001b[0mself\u001b[0m\u001b[1;33m,\u001b[0m \u001b[1;33m*\u001b[0m\u001b[0margs\u001b[0m\u001b[1;33m)\u001b[0m\u001b[1;33m:\u001b[0m\u001b[1;33m\u001b[0m\u001b[0m\n",
      "\u001b[1;32mD:\\ProgramData\\Anaconda3\\envs\\tensorflow\\lib\\site-packages\\mxnet\\gluon\\block.py\u001b[0m in \u001b[0;36mforward\u001b[1;34m(self, x, *args)\u001b[0m\n\u001b[0;32m    512\u001b[0m                     \u001b[1;32mreturn\u001b[0m \u001b[0mself\u001b[0m\u001b[1;33m.\u001b[0m\u001b[0m_call_cached_op\u001b[0m\u001b[1;33m(\u001b[0m\u001b[0mx\u001b[0m\u001b[1;33m,\u001b[0m \u001b[1;33m*\u001b[0m\u001b[0margs\u001b[0m\u001b[1;33m)\u001b[0m\u001b[1;33m\u001b[0m\u001b[0m\n\u001b[0;32m    513\u001b[0m                 \u001b[0mparams\u001b[0m \u001b[1;33m=\u001b[0m \u001b[1;33m{\u001b[0m\u001b[0mi\u001b[0m\u001b[1;33m:\u001b[0m \u001b[0mj\u001b[0m\u001b[1;33m.\u001b[0m\u001b[0mdata\u001b[0m\u001b[1;33m(\u001b[0m\u001b[0mctx\u001b[0m\u001b[1;33m)\u001b[0m \u001b[1;32mfor\u001b[0m \u001b[0mi\u001b[0m\u001b[1;33m,\u001b[0m \u001b[0mj\u001b[0m \u001b[1;32min\u001b[0m \u001b[0mself\u001b[0m\u001b[1;33m.\u001b[0m\u001b[0m_reg_params\u001b[0m\u001b[1;33m.\u001b[0m\u001b[0mitems\u001b[0m\u001b[1;33m(\u001b[0m\u001b[1;33m)\u001b[0m\u001b[1;33m}\u001b[0m\u001b[1;33m\u001b[0m\u001b[0m\n\u001b[1;32m--> 514\u001b[1;33m                 \u001b[1;32mreturn\u001b[0m \u001b[0mself\u001b[0m\u001b[1;33m.\u001b[0m\u001b[0mhybrid_forward\u001b[0m\u001b[1;33m(\u001b[0m\u001b[0mndarray\u001b[0m\u001b[1;33m,\u001b[0m \u001b[0mx\u001b[0m\u001b[1;33m,\u001b[0m \u001b[1;33m*\u001b[0m\u001b[0margs\u001b[0m\u001b[1;33m,\u001b[0m \u001b[1;33m**\u001b[0m\u001b[0mparams\u001b[0m\u001b[1;33m)\u001b[0m\u001b[1;33m\u001b[0m\u001b[0m\n\u001b[0m\u001b[0;32m    515\u001b[0m \u001b[1;33m\u001b[0m\u001b[0m\n\u001b[0;32m    516\u001b[0m         \u001b[1;32massert\u001b[0m \u001b[0misinstance\u001b[0m\u001b[1;33m(\u001b[0m\u001b[0mx\u001b[0m\u001b[1;33m,\u001b[0m \u001b[0mSymbol\u001b[0m\u001b[1;33m)\u001b[0m\u001b[1;33m,\u001b[0m\u001b[0;31m \u001b[0m\u001b[0;31m\\\u001b[0m\u001b[1;33m\u001b[0m\u001b[0m\n",
      "\u001b[1;32mD:\\ProgramData\\Anaconda3\\envs\\tensorflow\\lib\\site-packages\\mxnet\\gluon\\loss.py\u001b[0m in \u001b[0;36mhybrid_forward\u001b[1;34m(self, F, pred, label, sample_weight)\u001b[0m\n\u001b[0;32m    310\u001b[0m     \u001b[1;32mdef\u001b[0m \u001b[0mhybrid_forward\u001b[0m\u001b[1;33m(\u001b[0m\u001b[0mself\u001b[0m\u001b[1;33m,\u001b[0m \u001b[0mF\u001b[0m\u001b[1;33m,\u001b[0m \u001b[0mpred\u001b[0m\u001b[1;33m,\u001b[0m \u001b[0mlabel\u001b[0m\u001b[1;33m,\u001b[0m \u001b[0msample_weight\u001b[0m\u001b[1;33m=\u001b[0m\u001b[1;32mNone\u001b[0m\u001b[1;33m)\u001b[0m\u001b[1;33m:\u001b[0m\u001b[1;33m\u001b[0m\u001b[0m\n\u001b[0;32m    311\u001b[0m         \u001b[1;32mif\u001b[0m \u001b[1;32mnot\u001b[0m \u001b[0mself\u001b[0m\u001b[1;33m.\u001b[0m\u001b[0m_from_logits\u001b[0m\u001b[1;33m:\u001b[0m\u001b[1;33m\u001b[0m\u001b[0m\n\u001b[1;32m--> 312\u001b[1;33m             \u001b[0mpred\u001b[0m \u001b[1;33m=\u001b[0m \u001b[0mF\u001b[0m\u001b[1;33m.\u001b[0m\u001b[0mlog_softmax\u001b[0m\u001b[1;33m(\u001b[0m\u001b[0mpred\u001b[0m\u001b[1;33m,\u001b[0m \u001b[0mself\u001b[0m\u001b[1;33m.\u001b[0m\u001b[0m_axis\u001b[0m\u001b[1;33m)\u001b[0m\u001b[1;33m\u001b[0m\u001b[0m\n\u001b[0m\u001b[0;32m    313\u001b[0m         \u001b[1;32mif\u001b[0m \u001b[0mself\u001b[0m\u001b[1;33m.\u001b[0m\u001b[0m_sparse_label\u001b[0m\u001b[1;33m:\u001b[0m\u001b[1;33m\u001b[0m\u001b[0m\n\u001b[0;32m    314\u001b[0m             \u001b[0mloss\u001b[0m \u001b[1;33m=\u001b[0m \u001b[1;33m-\u001b[0m\u001b[0mF\u001b[0m\u001b[1;33m.\u001b[0m\u001b[0mpick\u001b[0m\u001b[1;33m(\u001b[0m\u001b[0mpred\u001b[0m\u001b[1;33m,\u001b[0m \u001b[0mlabel\u001b[0m\u001b[1;33m,\u001b[0m \u001b[0maxis\u001b[0m\u001b[1;33m=\u001b[0m\u001b[0mself\u001b[0m\u001b[1;33m.\u001b[0m\u001b[0m_axis\u001b[0m\u001b[1;33m,\u001b[0m \u001b[0mkeepdims\u001b[0m\u001b[1;33m=\u001b[0m\u001b[1;32mTrue\u001b[0m\u001b[1;33m)\u001b[0m\u001b[1;33m\u001b[0m\u001b[0m\n",
      "\u001b[1;32mD:\\ProgramData\\Anaconda3\\envs\\tensorflow\\lib\\site-packages\\mxnet\\ndarray\\register.py\u001b[0m in \u001b[0;36mlog_softmax\u001b[1;34m(data, axis, out, name, **kwargs)\u001b[0m\n",
      "\u001b[1;32mD:\\ProgramData\\Anaconda3\\envs\\tensorflow\\lib\\site-packages\\mxnet\\_ctypes\\ndarray.py\u001b[0m in \u001b[0;36m_imperative_invoke\u001b[1;34m(handle, ndargs, keys, vals, out)\u001b[0m\n\u001b[0;32m     90\u001b[0m         \u001b[0mc_str_array\u001b[0m\u001b[1;33m(\u001b[0m\u001b[0mkeys\u001b[0m\u001b[1;33m)\u001b[0m\u001b[1;33m,\u001b[0m\u001b[1;33m\u001b[0m\u001b[0m\n\u001b[0;32m     91\u001b[0m         \u001b[0mc_str_array\u001b[0m\u001b[1;33m(\u001b[0m\u001b[1;33m[\u001b[0m\u001b[0mstr\u001b[0m\u001b[1;33m(\u001b[0m\u001b[0ms\u001b[0m\u001b[1;33m)\u001b[0m \u001b[1;32mfor\u001b[0m \u001b[0ms\u001b[0m \u001b[1;32min\u001b[0m \u001b[0mvals\u001b[0m\u001b[1;33m]\u001b[0m\u001b[1;33m)\u001b[0m\u001b[1;33m,\u001b[0m\u001b[1;33m\u001b[0m\u001b[0m\n\u001b[1;32m---> 92\u001b[1;33m         ctypes.byref(out_stypes)))\n\u001b[0m\u001b[0;32m     93\u001b[0m \u001b[1;33m\u001b[0m\u001b[0m\n\u001b[0;32m     94\u001b[0m     \u001b[1;32mif\u001b[0m \u001b[0moriginal_output\u001b[0m \u001b[1;32mis\u001b[0m \u001b[1;32mnot\u001b[0m \u001b[1;32mNone\u001b[0m\u001b[1;33m:\u001b[0m\u001b[1;33m\u001b[0m\u001b[0m\n",
      "\u001b[1;31mKeyboardInterrupt\u001b[0m: "
     ]
    }
   ],
   "source": [
    "net = get_net(ctx)\n",
    "train_loss_list, val_loss_list = train(net, data_iter_train, data_iter_val, ctx, epochs=150, lr=0.0001, \\\n",
    "      mome=0.9, wd=0, lr_decay=0.5, lr_period=20)"
   ]
  },
  {
   "cell_type": "code",
   "execution_count": 24,
   "metadata": {},
   "outputs": [
    {
     "data": {
      "text/plain": [
       "<matplotlib.legend.Legend at 0x3dad77b8>"
      ]
     },
     "execution_count": 24,
     "metadata": {},
     "output_type": "execute_result"
    },
    {
     "data": {
      "image/png": "[encoded data removed]",
      "text/plain": [
       "<matplotlib.figure.Figure at 0x43d8bef0>"
      ]
     },
     "metadata": {},
     "output_type": "display_data"
    }
   ],
   "source": [
    "plt.plot(train_loss_list, label=\"train_loss\")\n",
    "plt.plot(val_loss_list, label=\"val_loss\")\n",
    "plt.legend()"
   ]
  },
  {
   "cell_type": "code",
   "execution_count": 27,
   "metadata": {},
   "outputs": [
    {
     "data": {
      "text/plain": [
       "(0, 0.6)"
      ]
     },
     "execution_count": 27,
     "metadata": {},
     "output_type": "execute_result"
    },
    {
     "data": {
      "image/png": "[encoded data removed]",
      "text/plain": [
       "<matplotlib.figure.Figure at 0x4c674470>"
      ]
     },
     "metadata": {},
     "output_type": "display_data"
    }
   ],
   "source": [
    "plt.plot(train_loss_list, label=\"train_loss\")\n",
    "plt.plot(val_loss_list, label=\"val_loss\")\n",
    "plt.legend()\n",
    "plt.ylim([0,0.6])"
   ]
  },
  {
   "cell_type": "markdown",
   "metadata": {},
   "source": [
    "# Training Using All Data"
   ]
  },
  {
   "cell_type": "code",
   "execution_count": 28,
   "metadata": {},
   "outputs": [],
   "source": [
    "net = get_net(ctx)\n",
    "train_loss_list, val_loss_list = train(net, data_iter_all, None, ctx, epochs=100, lr=0.0001, \\\n",
    "      mome=0.9, wd=0, lr_decay=0.5, lr_period=20)"
   ]
  },
  {
   "cell_type": "markdown",
   "metadata": {},
   "source": [
    "# Testing"
   ]
  },
  {
   "cell_type": "code",
   "execution_count": 29,
   "metadata": {},
   "outputs": [
    {
     "name": "stdout",
     "output_type": "stream",
     "text": [
      "X_test Size:  (10357, 2048)\n"
     ]
    }
   ],
   "source": [
    "with h5py.File('D:\\dog_data\\dogbreed/resnet50_v2_pretrained_Xy.h5', 'r') as f:\n",
    "    X_test_resnet50_v2 = np.array(f['X_test_resnet50_v2'])\n",
    "    \n",
    "print (\"X_test Size: \", X_test_resnet50_v2.shape)"
   ]
  },
  {
   "cell_type": "code",
   "execution_count": 30,
   "metadata": {},
   "outputs": [],
   "source": [
    "out_softmax = nd.softmax(net(nd.array(X_test_resnet50_v2).as_in_context(ctx)))\n",
    "\n",
    "synsets = mx.gluon.data.vision.ImageFolderDataset(\"D:\\dog_data\\dogbreed/train_gy\").synsets\n",
    "ids = sorted(os.listdir(\"D:\\dog_data\\dogbreed/test_gy/0/\"))\n",
    "ids = [i[:-4] for i in ids]\n",
    "\n",
    "df = pd.DataFrame(out_softmax.asnumpy())\n",
    "df.columns = synsets\n",
    "df[\"id\"] = ids\n",
    "df = df[[\"id\"]+synsets]"
   ]
  },
  {
   "cell_type": "code",
   "execution_count": 31,
   "metadata": {},
   "outputs": [],
   "source": [
    "df.to_csv('D:\\dog_data\\dogbreed/pred3.csv', index=None)"
   ]
  },
  {
   "cell_type": "code",
   "execution_count": null,
   "metadata": {},
   "outputs": [],
   "source": []
  }
 ],
 "metadata": {
  "kernelspec": {
   "display_name": "Python 2",
   "language": "python",
   "name": "python2"
  },
  "language_info": {
   "codemirror_mode": {
    "name": "ipython",
    "version": 2
   },
   "file_extension": ".py",
   "mimetype": "text/x-python",
   "name": "python",
   "nbconvert_exporter": "python",
   "pygments_lexer": "ipython2",
   "version": "2.7.13"
  }
 },
 "nbformat": 4,
 "nbformat_minor": 2
}
